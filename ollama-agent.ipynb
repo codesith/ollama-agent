{
 "cells": [
  {
   "cell_type": "code",
   "execution_count": 1,
   "id": "3cdea125-0123-4cc8-b668-89696ba294e5",
   "metadata": {},
   "outputs": [],
   "source": [
    "import pandas as pd\n",
    "from llama_index.experimental.query_engine import PandasQueryEngine\n",
    "from llama_index.llms.ollama import Ollama\n",
    "\n",
    "import logging\n",
    "import sys\n",
    "\n",
    "logging.basicConfig(stream=sys.stdout, level=logging.INFO)\n",
    "logging.getLogger().addHandler(logging.StreamHandler(stream=sys.stdout))"
   ]
  },
  {
   "cell_type": "code",
   "execution_count": 2,
   "id": "8030d362-36ec-446b-a7b4-8b756f6955de",
   "metadata": {},
   "outputs": [],
   "source": [
    "qe = PandasQueryEngine(\n",
    "    df=pd.read_csv(\"employees.csv\"), \n",
    "    llm = Ollama(model=\"llama3\", request_timeout=30.0), \n",
    "    verbose=False\n",
    ")"
   ]
  },
  {
   "cell_type": "code",
   "execution_count": 3,
   "id": "8c1bda96-9e0b-4db9-b68e-ed051f501ddc",
   "metadata": {},
   "outputs": [
    {
     "name": "stdout",
     "output_type": "stream",
     "text": [
      "          Level  Performance Score   Hire Date     Salary\n",
      "0     Principal                  3  2009-04-18  219192.00\n",
      "1     Principal                  3  2021-02-07  218327.49\n",
      "2     Principal                  3  2023-12-15  232113.37\n",
      "3     Principal                  4  2021-11-12  223042.58\n",
      "4     Principal                  3  2024-04-07  210656.24\n",
      "...         ...                ...         ...        ...\n",
      "1995         E1                  3  2023-03-17  110007.24\n",
      "1996         E1                  4  2022-10-09  116988.38\n",
      "1997         E1                  3  2023-07-17  114426.03\n",
      "1998         E1                  1  2023-12-14   98655.33\n",
      "1999         E1                  5  2024-01-11  116411.05\n",
      "\n",
      "[2000 rows x 4 columns]\n"
     ]
    }
   ],
   "source": [
    "print(qe.query(\"Show me all the data?\"))"
   ]
  },
  {
   "cell_type": "code",
   "execution_count": 4,
   "id": "3a18e8db-21d7-4872-b832-d1111609297b",
   "metadata": {},
   "outputs": [
    {
     "name": "stdout",
     "output_type": "stream",
     "text": [
      "250000.0\n"
     ]
    }
   ],
   "source": [
    "print(qe.query(\"Show me the highest salary.\"))"
   ]
  },
  {
   "cell_type": "code",
   "execution_count": null,
   "id": "f1abf0e6-c2ef-47c6-b425-d94948f86d2d",
   "metadata": {},
   "outputs": [],
   "source": []
  }
 ],
 "metadata": {
  "kernelspec": {
   "display_name": "Python 3 (ipykernel)",
   "language": "python",
   "name": "python3"
  },
  "language_info": {
   "codemirror_mode": {
    "name": "ipython",
    "version": 3
   },
   "file_extension": ".py",
   "mimetype": "text/x-python",
   "name": "python",
   "nbconvert_exporter": "python",
   "pygments_lexer": "ipython3",
   "version": "3.12.3"
  }
 },
 "nbformat": 4,
 "nbformat_minor": 5
}
